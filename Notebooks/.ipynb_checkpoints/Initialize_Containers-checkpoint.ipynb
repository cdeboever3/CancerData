{
 "metadata": {
  "kernelspec": {
   "codemirror_mode": {
    "name": "ipython",
    "version": 2
   },
   "display_name": "IPython (Python 2)",
   "language": "python",
   "name": "python2"
  },
  "name": "",
  "signature": "sha256:240b297bffeae98cde762c06bca848cec0b5b06132dd912b86eda6eaec2c6597"
 },
 "nbformat": 3,
 "nbformat_minor": 0,
 "worksheets": [
  {
   "cells": [
    {
     "cell_type": "heading",
     "level": 1,
     "metadata": {},
     "source": [
      "Create Run Object for Firehose Download"
     ]
    },
    {
     "cell_type": "code",
     "collapsed": false,
     "input": [
      "import NotebookImport\n",
      "from Imports import *"
     ],
     "language": "python",
     "metadata": {},
     "outputs": [
      {
       "html": [
        "importing IPython notebook from <a href='./Imports.ipynb' target='_blank'>Imports</a>"
       ],
       "metadata": {},
       "output_type": "display_data"
      },
      {
       "output_type": "stream",
       "stream": "stdout",
       "text": [
        "Populating the interactive namespace from numpy and matplotlib\n",
        "changing to source dirctory\n"
       ]
      },
      {
       "html": [
        "<style>\n",
        "@font-face {\n",
        "    font-family: \"Computer Modern\";\n",
        "    src: url('http://mirrors.ctan.org/fonts/cm-unicode/fonts/otf/cmunss.otf');\n",
        "}\n",
        "div.cell{\n",
        "    width:900px;\n",
        "    margin-left:auto;\n",
        "    margin-right:auto;\n",
        "}\n",
        "h1, h2, h3, h4 {\n",
        "    font-family: Helvetica, serif;\n",
        "    color: #000000;\n",
        "}\n",
        "div.text_cell_render {\n",
        "    font-family: Computer Modern, \"Helvetica Neue\", Arial, Helvetica, Geneva, sans-serif;\n",
        "    line-height: 125%;\n",
        "    font-size: 115%;\n",
        "    color: #4d4d4d;\n",
        "    width:800px;\n",
        "    margin-left:0px;\n",
        "    margin-right:auto;\n",
        "}\n",
        "\n",
        ".warning{\n",
        "    color: rgb( 240, 20, 20 )\n",
        "    }  \n",
        "\n",
        "</style>"
       ],
       "metadata": {},
       "output_type": "display_data",
       "text": [
        "<IPython.core.display.HTML object>"
       ]
      }
     ],
     "prompt_number": 1
    },
    {
     "cell_type": "code",
     "collapsed": false,
     "input": [
      "from Data.Containers import Run, Cancer"
     ],
     "language": "python",
     "metadata": {},
     "outputs": [],
     "prompt_number": 3
    },
    {
     "cell_type": "code",
     "collapsed": false,
     "input": [
      "data_path = '{}/Firehose__{}/'.format(OUT_PATH, RUN_DATE)\n",
      "result_path = data_path + 'ucsd_analyses/'"
     ],
     "language": "python",
     "metadata": {},
     "outputs": [],
     "prompt_number": 4
    },
    {
     "cell_type": "code",
     "collapsed": false,
     "input": [
      "cancer_codes = pd.read_table('../ExtraData/diseaseStudy.txt',\n",
      "                             index_col=0, squeeze=True)\n",
      "run_dir = 'http://gdac.broadinstitute.org/runs'\n",
      "f = '{}/analyses__{}/ingested_data.tsv'.format(run_dir, RUN_DATE)\n",
      "sample_matrix = pd.read_table(f, index_col=0).dropna()\n",
      "sample_matrix = sample_matrix.ix[[c for c in sample_matrix.index if \n",
      "                                  c not in ['PANCAN12', 'COADREAD','Totals']]]"
     ],
     "language": "python",
     "metadata": {},
     "outputs": [],
     "prompt_number": 5
    },
    {
     "cell_type": "code",
     "collapsed": false,
     "input": [
      "run = Run(RUN_DATE, VERSION, data_path, result_path, PARAMETERS, \n",
      "          cancer_codes, sample_matrix, DESCRIPTION)\n",
      "run.save()\n",
      "run"
     ],
     "language": "python",
     "metadata": {},
     "outputs": [
      {
       "metadata": {},
       "output_type": "pyout",
       "prompt_number": 6,
       "text": [
        "Run object for TCGA Analysis\n",
        "Firehose run date: 2014_07_15\n",
        "Code version: all\n",
        "Comment: Updating analysis for updated dataset."
       ]
      }
     ],
     "prompt_number": 6
    },
    {
     "cell_type": "heading",
     "level": 1,
     "metadata": {},
     "source": [
      "Initialize Data Objects into the File Hierarchy"
     ]
    },
    {
     "cell_type": "code",
     "collapsed": false,
     "input": [
      "cancer_obj = Cancer(c, run) \n",
      "cancer_obj.initialize_data(run, save=True)"
     ],
     "language": "python",
     "metadata": {},
     "outputs": [],
     "prompt_number": 8
    },
    {
     "cell_type": "code",
     "collapsed": false,
     "input": [
      "from Processing.InitializeReal import initialize_real\n",
      "from Processing.InitializeMut import initialize_mut\n",
      "from Processing.InitializeCN import initialize_cn"
     ],
     "language": "python",
     "metadata": {},
     "outputs": [],
     "prompt_number": 102
    },
    {
     "cell_type": "code",
     "collapsed": false,
     "input": [
      "def init(c, run):\n",
      "    try:\n",
      "        cancer_obj = Cancer(c, run)   \n",
      "        cancer_obj.initialize_data(run, save=True)\n",
      "    except:\n",
      "        print c + '\\t' + 'all'\n",
      "    try:\n",
      "        initialize_real(c, run.report_path, 'mRNASeq', \n",
      "                        create_meta_features=True)\n",
      "    except:\n",
      "        print c + '\\t' + 'mRNASeq'\n",
      "    try:\n",
      "        initialize_real(c, run.report_path, 'RPPA', \n",
      "                        create_meta_features=True, create_real_features=False)\n",
      "    except:\n",
      "        print c + '\\t' + 'RPPA'\n",
      "    try:\n",
      "        initialize_real(c, run.report_path, 'miRNASeq', \n",
      "                        create_meta_features=False)\n",
      "    except:\n",
      "        print c + '\\t' + 'miRNASeq'\n",
      "    try:\n",
      "        initialize_cn(c, run.report_path, 'CN_broad')\n",
      "    except:\n",
      "        print c + '\\t' + 'CN' \n",
      "    try:\n",
      "        initialize_mut(c, run.report_path, create_meta_features=True);\n",
      "    except:\n",
      "        print c + '\\t' + 'mut' "
     ],
     "language": "python",
     "metadata": {},
     "outputs": [],
     "prompt_number": 103
    },
    {
     "cell_type": "code",
     "collapsed": false,
     "input": [
      "for cancer in run.cancers:\n",
      "    init(cancer, run)"
     ],
     "language": "python",
     "metadata": {},
     "outputs": [
      {
       "output_type": "stream",
       "stream": "stdout",
       "text": [
        "ACC\tmRNASeq\n",
        "ACC\tRPPA\n",
        "ACC\tmiRNASeq\n",
        "BRCA\tRPPA\n",
        "CESC\tRPPA\n",
        "CHOL\tall\n",
        "CHOL\tmRNASeq\n",
        "CHOL\tRPPA\n",
        "CHOL\tmiRNASeq\n",
        "CHOL\tCN\n",
        "CHOL\tmut\n",
        "DLBC\tall\n",
        "DLBC\tmRNASeq\n",
        "DLBC\tRPPA\n",
        "DLBC\tmiRNASeq\n",
        "DLBC\tCN\n",
        "DLBC\tmut\n",
        "ESCA\tmRNASeq\n",
        "ESCA\tRPPA\n",
        "ESCA\tmut\n",
        "GBM\tmiRNASeq\n",
        "KICH\tRPPA\n",
        "KIRP\tRPPA\n",
        "LAML\tall\n",
        "LAML\tmRNASeq\n",
        "LAML\tRPPA\n",
        "LAML\tmiRNASeq\n",
        "LAML\tCN\n",
        "LAML\tmut\n",
        "LIHC\tRPPA\n",
        "MESO\tmRNASeq\n",
        "MESO\tRPPA\n",
        "MESO\tmiRNASeq\n",
        "MESO\tmut\n",
        "PAAD\tRPPA\n",
        "PCPG\tRPPA\n",
        "SARC\tRPPA\n",
        "SARC\tmut\n",
        "SKCM\tRPPA\n",
        "STAD\tmRNASeq\n",
        "STAD\tRPPA\n",
        "TGCT\tall\n",
        "TGCT\tmRNASeq\n",
        "TGCT\tRPPA\n",
        "TGCT\tmiRNASeq\n",
        "TGCT\tCN\n",
        "TGCT\tmut\n",
        "THYM\tall\n",
        "THYM\tmRNASeq\n",
        "THYM\tRPPA\n",
        "THYM\tmiRNASeq\n",
        "THYM\tCN\n",
        "THYM\tmut\n",
        "UCS\tmRNASeq\n",
        "UCS\tRPPA\n",
        "UCS\tmiRNASeq\n"
       ]
      }
     ],
     "prompt_number": 104
    }
   ],
   "metadata": {}
  }
 ]
}
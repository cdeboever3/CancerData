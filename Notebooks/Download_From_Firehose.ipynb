{
 "metadata": {
  "kernelspec": {
   "codemirror_mode": {
    "name": "ipython",
    "version": 2
   },
   "display_name": "IPython (Python 2)",
   "language": "python",
   "name": "python2"
  },
  "name": "",
  "signature": "sha256:7987cdf1b937b8dd1dc934102b149138ede229326389775ac7e47f9b9598c292"
 },
 "nbformat": 3,
 "nbformat_minor": 0,
 "worksheets": [
  {
   "cells": [
    {
     "cell_type": "markdown",
     "metadata": {},
     "source": [
      "<h1 class=\"alert alert-info\">Initialization <small>  <i class=\"icon-download\"></i>  Download and process all of the data fom Firehose</small></h1> "
     ]
    },
    {
     "cell_type": "markdown",
     "metadata": {},
     "source": [
      "####Notebook Summary\n",
      "\n",
      "Here we are downloading and processing most of the necissary data to run this analysis pipeline. I have set up a series of scripts to do this in an automated fashon in order to allow for reproduction of this study by others as well as for updating the results obtained here as more TCGA data is collected and reseased.  \n",
      "\n",
      "Downloading this data can take a considerable amount of time (~5 hours) and disk space (~45GB), be prepared.  \n",
      "\n",
      "We use the firehose_get script provided by the Broad to download the data, please see the [firehose_get documentation](ttps://confluence.broadinstitute.org/display/GDAC/Download) for troubleshooting.  As we are making using the Broad's initial processing pipeline and data formats we can not promise this initial code will not break upon future update that they make.  "
     ]
    },
    {
     "cell_type": "markdown",
     "metadata": {},
     "source": [
      "<span class='altert alert-success' style='font-size:120%'>Make sure to edit the [Imports Notebook](./Imports) and change __OUT_PATH__ to directory on your machine where you want to store the data</span>"
     ]
    },
    {
     "cell_type": "code",
     "collapsed": false,
     "input": [
      "import NotebookImport\n",
      "from Imports import *"
     ],
     "language": "python",
     "metadata": {},
     "outputs": [
      {
       "html": [
        "importing IPython notebook from <a href='./Imports.ipynb' target='_blank'>Imports</a>"
       ],
       "metadata": {},
       "output_type": "display_data"
      },
      {
       "output_type": "stream",
       "stream": "stdout",
       "text": [
        "Populating the interactive namespace from numpy and matplotlib\n",
        "changing to source dirctory\n"
       ]
      },
      {
       "html": [
        "<style>\n",
        "@font-face {\n",
        "    font-family: \"Computer Modern\";\n",
        "    src: url('http://mirrors.ctan.org/fonts/cm-unicode/fonts/otf/cmunss.otf');\n",
        "}\n",
        "div.cell{\n",
        "    width:900px;\n",
        "    margin-left:auto;\n",
        "    margin-right:auto;\n",
        "}\n",
        "h1, h2, h3, h4 {\n",
        "    font-family: Helvetica, serif;\n",
        "    color: #000000;\n",
        "}\n",
        "div.text_cell_render {\n",
        "    font-family: Computer Modern, \"Helvetica Neue\", Arial, Helvetica, Geneva, sans-serif;\n",
        "    line-height: 125%;\n",
        "    font-size: 115%;\n",
        "    color: #4d4d4d;\n",
        "    width:800px;\n",
        "    margin-left:0px;\n",
        "    margin-right:auto;\n",
        "}\n",
        "\n",
        ".warning{\n",
        "    color: rgb( 240, 20, 20 )\n",
        "    }  \n",
        "\n",
        "</style>"
       ],
       "metadata": {},
       "output_type": "display_data",
       "text": [
        "<IPython.core.display.HTML object>"
       ]
      }
     ],
     "prompt_number": 123
    },
    {
     "cell_type": "heading",
     "level": 2,
     "metadata": {},
     "source": [
      "Initialization"
     ]
    },
    {
     "cell_type": "code",
     "collapsed": false,
     "input": [
      "!curl http://gdac.broadinstitute.org/runs/code/firehose_get_latest.zip -o fh_get.zip\n",
      "!unzip fh_get.zip"
     ],
     "language": "python",
     "metadata": {},
     "outputs": [
      {
       "output_type": "stream",
       "stream": "stdout",
       "text": [
        "  % Total    % Received % Xferd  Average Speed   Time    Time     Time  Current\n",
        "                                 Dload  Upload   Total   Spent    Left  Speed\n",
        "100  6542  100  6542    0     0  15389      0 --:--:-- --:--:-- --:--:-- 19297\n",
        "Archive:  fh_get.zip\n",
        "  inflating: firehose_get            \n"
       ]
      }
     ],
     "prompt_number": 4
    },
    {
     "cell_type": "heading",
     "level": 2,
     "metadata": {},
     "source": [
      "Download Data"
     ]
    },
    {
     "cell_type": "code",
     "collapsed": false,
     "input": [
      "d = 'http://gdac.broadinstitute.org/runs/analyses__{}/ingested_data.tsv'.format(RUN_DATE)\n",
      "tab = pd.read_table(d, sep='\\n', header=None)\n",
      "skip = tab[0].dropna().apply(lambda s: s.startswith('#'))\n",
      "skip = list(skip[skip==True].index)\n",
      "tab = pd.read_table(d, skiprows=skip, index_col=0).dropna()"
     ],
     "language": "python",
     "metadata": {},
     "outputs": [],
     "prompt_number": 6
    },
    {
     "cell_type": "code",
     "collapsed": false,
     "input": [
      "cancers = tab[tab.Clinical>0].index[:-1]\n",
      "cancer_string = ' '.join(cancers)\n",
      "cancer_string"
     ],
     "language": "python",
     "metadata": {},
     "outputs": [
      {
       "metadata": {},
       "output_type": "pyout",
       "prompt_number": 8,
       "text": [
        "'ACC BLCA BRCA CESC COAD COADREAD DLBC ESCA GBM HNSC KICH KIRC KIRP LAML LGG LIHC LUAD LUSC MESO OV PAAD PCPG PRAD READ SARC SKCM STAD THCA UCEC UCS'"
       ]
      }
     ],
     "prompt_number": 8
    },
    {
     "cell_type": "markdown",
     "metadata": {},
     "source": [
      "Firehose has a pretty rough limit on 1MB/s for downloading files.  To speed things up I send parallel requests for each cancer."
     ]
    },
    {
     "cell_type": "code",
     "collapsed": false,
     "input": [
      "analysis = ['firehose_get -b analyses {} {} > tmp_{} &'.format(RUN_DATE, c, c)\n",
      "            for c in cancers]\n",
      "data_types = ['miR_gene_expression','RSEM_genes_normalized','protein_normalization',\n",
      "              'clinical']\n",
      "#data_types += ['humanmethylation450']\n",
      "stddata = ['firehose_get -b -o {} stddata {} {} > tmp_{}_{} &'.format(r, RUN_DATE, c, r, c)\n",
      "            for c in cancers for r in data_types]"
     ],
     "language": "python",
     "metadata": {},
     "outputs": [],
     "prompt_number": 52
    },
    {
     "cell_type": "code",
     "collapsed": false,
     "input": [
      "calls = analysis + stddata\n",
      "script = '\\nsleep 1\\n'.join(calls)\n",
      "f = open('script.sh', 'wb')\n",
      "f.write(script)\n",
      "f.close()\n",
      "!bash script.sh"
     ],
     "language": "python",
     "metadata": {},
     "outputs": [],
     "prompt_number": 53
    },
    {
     "cell_type": "code",
     "collapsed": false,
     "input": [
      "def check_file(f):\n",
      "    text =  open(f).read()\n",
      "    if 'ERROR 404: Not Found' not in text:\n",
      "        return True\n",
      "    summary = text.split('\\n')[-5] \n",
      "    n_files = int(summary.split(' files')[0].split()[1])\n",
      "    if n_files > 2:\n",
      "        return True\n",
      "    else:\n",
      "        return False"
     ],
     "language": "python",
     "metadata": {},
     "outputs": [],
     "prompt_number": 87
    },
    {
     "cell_type": "code",
     "collapsed": false,
     "input": [
      "logs = [f for f in os.listdir('.') if f.startswith('tmp')]\n",
      "failed_runs = [f for f in logs if check_file(f) == False]"
     ],
     "language": "python",
     "metadata": {},
     "outputs": [],
     "prompt_number": 95
    },
    {
     "cell_type": "code",
     "collapsed": false,
     "input": [
      "recall = [c for c in calls for f in failed_runs if f + ' ' in c]\n",
      "len(recall), len(calls)"
     ],
     "language": "python",
     "metadata": {},
     "outputs": [
      {
       "metadata": {},
       "output_type": "pyout",
       "prompt_number": 108,
       "text": [
        "(42, 150)"
       ]
      }
     ],
     "prompt_number": 108
    },
    {
     "cell_type": "code",
     "collapsed": false,
     "input": [
      "script = '\\n'.join(recall)\n",
      "f = open('script.sh', 'wb')\n",
      "f.write(script)\n",
      "f.close()\n",
      "!bash script.sh"
     ],
     "language": "python",
     "metadata": {},
     "outputs": [],
     "prompt_number": 110
    },
    {
     "cell_type": "heading",
     "level": 2,
     "metadata": {},
     "source": [
      "Clean Up Downloads"
     ]
    },
    {
     "cell_type": "markdown",
     "metadata": {},
     "source": [
      "No going back from here, so I would check your data to make sure everything got downloaded correctly."
     ]
    },
    {
     "cell_type": "code",
     "collapsed": false,
     "input": [
      "!rm -f tmp*\n",
      "!rm script.sh"
     ],
     "language": "python",
     "metadata": {},
     "outputs": [],
     "prompt_number": 124
    },
    {
     "cell_type": "code",
     "collapsed": false,
     "input": [
      "!rm fh_get.zip\n",
      "!rm firehose_get"
     ],
     "language": "python",
     "metadata": {},
     "outputs": [],
     "prompt_number": 111
    },
    {
     "cell_type": "code",
     "collapsed": false,
     "input": [
      "if not os.path.isdir(OUT_PATH):\n",
      "    os.makedirs(OUT_PATH)"
     ],
     "language": "python",
     "metadata": {},
     "outputs": [],
     "prompt_number": 112
    },
    {
     "cell_type": "code",
     "collapsed": false,
     "input": [
      "analyses_folder = 'analyses__' + RUN_DATE\n",
      "!mv $analyses_folder {OUT_PATH + '/' + analyses_folder}"
     ],
     "language": "python",
     "metadata": {},
     "outputs": [],
     "prompt_number": 115
    },
    {
     "cell_type": "code",
     "collapsed": false,
     "input": [
      "stddata_folder = 'stddata__' + RUN_DATE\n",
      "!mv $stddata_folder {OUT_PATH + '/' + stddata_folder}"
     ],
     "language": "python",
     "metadata": {},
     "outputs": [],
     "prompt_number": 116
    },
    {
     "cell_type": "heading",
     "level": 2,
     "metadata": {},
     "source": [
      "Exctract data and set up file hierarchy for downstream analysis"
     ]
    },
    {
     "cell_type": "code",
     "collapsed": false,
     "input": [
      "from Processing.ProcessFirehose import process_all_cancers\n",
      "\n",
      "process_all_cancers(OUT_PATH, RUN_DATE)"
     ],
     "language": "python",
     "metadata": {},
     "outputs": [],
     "prompt_number": 118
    },
    {
     "cell_type": "markdown",
     "metadata": {},
     "source": [
      "Get rid of all of the downloaded zip files that we processed"
     ]
    },
    {
     "cell_type": "code",
     "collapsed": false,
     "input": [
      "!rm -rf {OUT_PATH + '/' + stddata_folder}\n",
      "!rm -rf {OUT_PATH + '/' + analyses_folder}"
     ],
     "language": "python",
     "metadata": {},
     "outputs": [],
     "prompt_number": 119
    }
   ],
   "metadata": {}
  }
 ]
}